{
  "nbformat": 4,
  "nbformat_minor": 0,
  "metadata": {
    "colab": {
      "provenance": []
    },
    "kernelspec": {
      "name": "python3",
      "display_name": "Python 3"
    },
    "language_info": {
      "name": "python"
    }
  },
  "cells": [
    {
      "cell_type": "markdown",
      "source": [
        "## Importing Libraries"
      ],
      "metadata": {
        "id": "-rPMBJ-3f2Vd"
      }
    },
    {
      "cell_type": "code",
      "execution_count": null,
      "metadata": {
        "id": "cEpXLzt_xI-i"
      },
      "outputs": [],
      "source": [
        "import numpy as np\n",
        "import pandas as pd\n",
        "import matplotlib.pyplot as plt\n",
        "import os\n",
        "import json\n",
        "from datetime import datetime\n",
        "import datetime as dt\n",
        "import re"
      ]
    },
    {
      "cell_type": "markdown",
      "source": [
        "# 1. Krish Naik"
      ],
      "metadata": {
        "id": "Z5c1ILbNECY8"
      }
    },
    {
      "cell_type": "code",
      "source": [
        "df_krish = pd.read_csv(\"KrishNaik.csv\")\n",
        "df_channel = pd.read_csv(\"channalStats.csv\")"
      ],
      "metadata": {
        "id": "cIMPCYOdxaAy"
      },
      "execution_count": null,
      "outputs": []
    },
    {
      "cell_type": "code",
      "source": [
        "df_krish.dtypes"
      ],
      "metadata": {
        "colab": {
          "base_uri": "https://localhost:8080/"
        },
        "id": "OmGpdxkJ03lc",
        "outputId": "4e14eb26-f53a-47c2-d0e4-497616e522f0"
      },
      "execution_count": null,
      "outputs": [
        {
          "output_type": "execute_result",
          "data": {
            "text/plain": [
              "video_id                        object\n",
              "channelTitle                    object\n",
              "title                           object\n",
              "description                     object\n",
              "tags                            object\n",
              "publishedAt                     object\n",
              "viewCount                        int64\n",
              "likeCount                        int64\n",
              "favouriteCount                 float64\n",
              "commentCount                     int64\n",
              "duration                        object\n",
              "definition                      object\n",
              "caption                           bool\n",
              "Video publish time      datetime64[ns]\n",
              "duration_converted      datetime64[ns]\n",
              "duration_converted_t            object\n",
              "Avg_duration_sec                 int64\n",
              "dtype: object"
            ]
          },
          "metadata": {},
          "execution_count": 19
        }
      ]
    },
    {
      "cell_type": "markdown",
      "source": [
        "## Getting Published Time/Date"
      ],
      "metadata": {
        "id": "l7fermcDxqMf"
      }
    },
    {
      "cell_type": "code",
      "source": [
        "df_krish.columns"
      ],
      "metadata": {
        "colab": {
          "base_uri": "https://localhost:8080/"
        },
        "id": "GgJrAdzvxi0r",
        "outputId": "32d9ebe1-09fe-4ba1-9bdb-cd27dc273b27"
      },
      "execution_count": null,
      "outputs": [
        {
          "output_type": "execute_result",
          "data": {
            "text/plain": [
              "Index(['video_id', 'channelTitle', 'title', 'description', 'tags',\n",
              "       'publishedAt', 'viewCount', 'likeCount', 'favouriteCount',\n",
              "       'commentCount', 'duration', 'definition', 'caption'],\n",
              "      dtype='object')"
            ]
          },
          "metadata": {},
          "execution_count": 4
        }
      ]
    },
    {
      "cell_type": "code",
      "source": [
        "df_krish['Video publish time'] = pd.to_datetime(df_krish['publishedAt'])"
      ],
      "metadata": {
        "id": "S9l4MSoQyF_R"
      },
      "execution_count": null,
      "outputs": []
    },
    {
      "cell_type": "code",
      "source": [
        "#removing timezone\n",
        "df_krish['Video publish time'] = pd.to_datetime(df_krish['Video publish time']).dt.tz_localize(None)"
      ],
      "metadata": {
        "id": "8kbHw5sxyVza"
      },
      "execution_count": null,
      "outputs": []
    },
    {
      "cell_type": "code",
      "source": [
        "df_krish['Video publish time'] = df_krish['Video publish time'].dt.date"
      ],
      "metadata": {
        "id": "TZfj14QPycKp"
      },
      "execution_count": null,
      "outputs": []
    },
    {
      "cell_type": "code",
      "source": [
        "df_krish['Video publish time'] = pd.to_datetime(df_krish['Video publish time'])"
      ],
      "metadata": {
        "id": "rjNVkLzxyyGB"
      },
      "execution_count": null,
      "outputs": []
    },
    {
      "cell_type": "code",
      "source": [
        "df_krish['Video publish time'].head(3)"
      ],
      "metadata": {
        "colab": {
          "base_uri": "https://localhost:8080/"
        },
        "id": "1L45VZ-Hy68t",
        "outputId": "dcb26584-9664-466f-fd5b-1e2eba0a2ddd"
      },
      "execution_count": null,
      "outputs": [
        {
          "output_type": "execute_result",
          "data": {
            "text/plain": [
              "0   2022-09-08\n",
              "1   2022-09-08\n",
              "2   2022-09-07\n",
              "Name: Video publish time, dtype: datetime64[ns]"
            ]
          },
          "metadata": {},
          "execution_count": 10
        }
      ]
    },
    {
      "cell_type": "markdown",
      "source": [
        "## Converting Duration into Time"
      ],
      "metadata": {
        "id": "X7-_xzWEzJZR"
      }
    },
    {
      "cell_type": "code",
      "source": [
        "def duration_convert(tim):\n",
        "    res_num = [int(s) for s in re.findall(r'\\d', tim)]\n",
        "    \n",
        "    res = \"\"\n",
        "    ind = 0\n",
        "    lis = []\n",
        "    \n",
        "    for i in range(len(tim)):\n",
        "        \n",
        "        if ind<len(res_num):\n",
        "            if tim[i]==str(res_num[ind]):\n",
        "                lis.append(str(res_num[ind]))\n",
        "                ind+=1\n",
        "        if tim[i]==\"H\":\n",
        "\n",
        "            if(len(lis)==1):\n",
        "                temp_res = \"\".join(lis)\n",
        "                temp_res = \"0\"+temp_res\n",
        "                \n",
        "                res = res + temp_res\n",
        "                # print(\"temp res\",temp_res)\n",
        "                # print(\"time \",res)\n",
        "            else:\n",
        "                res = res.join(lis)\n",
        "            if \"M\"not in tim:\n",
        "                res=res+\":00\"\n",
        "            if \"S\" not in tim:\n",
        "                res = res+\":00\"\n",
        "\n",
        "            \n",
        "            # res = res.join(lis)\n",
        "           \n",
        "            lis.clear()\n",
        "        if tim[i] == \"M\":\n",
        "            if \"H\"not in tim:\n",
        "                res = res+\"00:\"\n",
        "            else:\n",
        "                 res = res+\":\"\n",
        "\n",
        "            # print(\"len of slis\",len(lis))\n",
        "            if(len(lis)==1):\n",
        "                # print(\"true\")\n",
        "                temp_res = \"\".join(lis)\n",
        "                temp_res = \"0\"+temp_res\n",
        "                res = res + temp_res\n",
        "                # print(\"temp res\",temp_res)\n",
        "                # print(\"time \",res)\n",
        "            else:\n",
        "                temp_res = \"\".join(lis)\n",
        "                res = res+temp_res\n",
        "                # print(\"temp res\",temp_res)\n",
        "                # print(\"time \",res)\n",
        "            if \"S\" not in tim:\n",
        "                # print(\"s not there\")\n",
        "                res = res+\":00\"\n",
        "            lis.clear()\n",
        "            \n",
        "        if tim[i]==\"S\":\n",
        "            # if \"H\"not in tim:\n",
        "            #     res = res+\"00:\"\n",
        "            # else:\n",
        "            #      res = res+\":\"\n",
        "            if \"H\" not in tim and \"M\" not in tim:\n",
        "                # print(\"runnig both\")\n",
        "                res = res+\"00:00:\"\n",
        "                # print(\"res\",res)\n",
        "\n",
        "            elif \"M\" not in tim:\n",
        "                # print(\"runnig\")\n",
        "                res = res+\"00:\"\n",
        "            else:\n",
        "                 res = res+\":\"\n",
        "            # print(\"len of slis\",len(lis))\n",
        "            if(len(lis)==1):\n",
        "                # print(\"true also\")\n",
        "                temp_res = \"\".join(lis)\n",
        "                temp_res = \"0\"+temp_res\n",
        "                res = res + temp_res\n",
        "                # print(\"temp res\",temp_res)\n",
        "                # print(\"time \",res)\n",
        "            else:\n",
        "                temp_res = \"\".join(lis)\n",
        "                res = res+temp_res\n",
        "                # print(\"temp res\",temp_res)\n",
        "                # print(\"time \",res)\n",
        "            \n",
        "            lis.clear()\n",
        "        \n",
        "    return res"
      ],
      "metadata": {
        "id": "W-90JXSMzRgN"
      },
      "execution_count": null,
      "outputs": []
    },
    {
      "cell_type": "code",
      "source": [
        "df_krish[\"duration_converted\"] = list(map(duration_convert,df_krish[\"duration\"]))"
      ],
      "metadata": {
        "id": "dzgPzkptzdol"
      },
      "execution_count": null,
      "outputs": []
    },
    {
      "cell_type": "code",
      "source": [
        "df_krish[\"duration_converted\"] = pd.to_datetime(df_krish[\"duration_converted\"])"
      ],
      "metadata": {
        "id": "PoJhldeKzl7Y"
      },
      "execution_count": null,
      "outputs": []
    },
    {
      "cell_type": "code",
      "source": [
        "df_krish[\"duration_converted_t\"] = df_krish[\"duration_converted\"].dt.time"
      ],
      "metadata": {
        "id": "Aa1ncA32zqt_"
      },
      "execution_count": null,
      "outputs": []
    },
    {
      "cell_type": "markdown",
      "source": [
        "## Average Duration"
      ],
      "metadata": {
        "id": "pVSYDkL50fMN"
      }
    },
    {
      "cell_type": "code",
      "source": [
        "df_krish['Avg_duration_sec'] = df_krish['duration_converted_t'].apply(lambda x: x.second + x.minute*60 + x.hour*3600)"
      ],
      "metadata": {
        "id": "5FGxqX9n0h2E"
      },
      "execution_count": null,
      "outputs": []
    },
    {
      "cell_type": "code",
      "source": [
        "df_krish['Avg_duration_sec'].head(3)"
      ],
      "metadata": {
        "colab": {
          "base_uri": "https://localhost:8080/"
        },
        "id": "pFNglmWi0qlB",
        "outputId": "25db0f8e-d158-4346-c0f8-df29f5abbf38"
      },
      "execution_count": null,
      "outputs": [
        {
          "output_type": "execute_result",
          "data": {
            "text/plain": [
              "0     494\n",
              "1    6041\n",
              "2     276\n",
              "Name: Avg_duration_sec, dtype: int64"
            ]
          },
          "metadata": {},
          "execution_count": 18
        }
      ]
    },
    {
      "cell_type": "markdown",
      "source": [
        "## Engagement Ratio"
      ],
      "metadata": {
        "id": "8Mwuftd81EbU"
      }
    },
    {
      "cell_type": "code",
      "source": [
        "df_krish['Engagement_ratio'] =  (df_krish['commentCount'] + df_krish['likeCount']) /df_krish.viewCount"
      ],
      "metadata": {
        "id": "zAjsqObq1IWj"
      },
      "execution_count": null,
      "outputs": []
    },
    {
      "cell_type": "code",
      "source": [
        "df_krish['Engagement_ratio'].head(3)"
      ],
      "metadata": {
        "colab": {
          "base_uri": "https://localhost:8080/"
        },
        "id": "adxrhLa51XJY",
        "outputId": "a1d578e8-6377-4be7-e9af-283986bddf36"
      },
      "execution_count": null,
      "outputs": [
        {
          "output_type": "execute_result",
          "data": {
            "text/plain": [
              "0    0.047498\n",
              "1    0.030549\n",
              "2    0.039819\n",
              "Name: Engagement_ratio, dtype: float64"
            ]
          },
          "metadata": {},
          "execution_count": 21
        }
      ]
    },
    {
      "cell_type": "markdown",
      "source": [
        "## Subscribers Count"
      ],
      "metadata": {
        "id": "jzUXBsnf1btj"
      }
    },
    {
      "cell_type": "code",
      "source": [
        "df_krish[\"view/subs_count\"] = df_krish[\"viewCount\"]/df_channel.loc[0,\"subscribers\"]"
      ],
      "metadata": {
        "id": "3H1RpJXE1Y5J"
      },
      "execution_count": null,
      "outputs": []
    },
    {
      "cell_type": "code",
      "source": [
        "df_krish[\"view/subs_count\"].head(3)"
      ],
      "metadata": {
        "colab": {
          "base_uri": "https://localhost:8080/"
        },
        "id": "NKqMlmxX1vHE",
        "outputId": "8e5dbe26-86e8-4dda-b45b-2f91570ee21e"
      },
      "execution_count": null,
      "outputs": [
        {
          "output_type": "execute_result",
          "data": {
            "text/plain": [
              "0    0.009125\n",
              "1    0.006486\n",
              "2    0.015745\n",
              "Name: view/subs_count, dtype: float64"
            ]
          },
          "metadata": {},
          "execution_count": 23
        }
      ]
    },
    {
      "cell_type": "markdown",
      "source": [
        "## Saving file to csv"
      ],
      "metadata": {
        "id": "5np6bc5e12G3"
      }
    },
    {
      "cell_type": "code",
      "source": [
        "df_krish.to_csv('Updated_KrishNaik.csv')"
      ],
      "metadata": {
        "id": "-92FDmqW1xo7"
      },
      "execution_count": null,
      "outputs": []
    },
    {
      "cell_type": "code",
      "source": [
        "df_krish.columns"
      ],
      "metadata": {
        "colab": {
          "base_uri": "https://localhost:8080/"
        },
        "id": "YrdFEnm22IlU",
        "outputId": "289a5377-bf21-4ad3-d78c-1203c36041a7"
      },
      "execution_count": null,
      "outputs": [
        {
          "output_type": "execute_result",
          "data": {
            "text/plain": [
              "Index(['video_id', 'channelTitle', 'title', 'description', 'tags',\n",
              "       'publishedAt', 'viewCount', 'likeCount', 'favouriteCount',\n",
              "       'commentCount', 'duration', 'definition', 'caption',\n",
              "       'Video publish time', 'duration_converted', 'duration_converted_t',\n",
              "       'Avg_duration_sec', 'Engagement_ratio', 'view/subs_count'],\n",
              "      dtype='object')"
            ]
          },
          "metadata": {},
          "execution_count": 25
        }
      ]
    },
    {
      "cell_type": "code",
      "source": [
        "df_krish.dtypes"
      ],
      "metadata": {
        "colab": {
          "base_uri": "https://localhost:8080/"
        },
        "id": "o_UesJv42LlH",
        "outputId": "050672bc-46c0-48f0-c73c-59d7c0be3148"
      },
      "execution_count": null,
      "outputs": [
        {
          "output_type": "execute_result",
          "data": {
            "text/plain": [
              "video_id                        object\n",
              "channelTitle                    object\n",
              "title                           object\n",
              "description                     object\n",
              "tags                            object\n",
              "publishedAt                     object\n",
              "viewCount                        int64\n",
              "likeCount                        int64\n",
              "favouriteCount                 float64\n",
              "commentCount                     int64\n",
              "duration                        object\n",
              "definition                      object\n",
              "caption                           bool\n",
              "Video publish time      datetime64[ns]\n",
              "duration_converted      datetime64[ns]\n",
              "duration_converted_t            object\n",
              "Avg_duration_sec                 int64\n",
              "Engagement_ratio               float64\n",
              "view/subs_count                float64\n",
              "dtype: object"
            ]
          },
          "metadata": {},
          "execution_count": 26
        }
      ]
    },
    {
      "cell_type": "markdown",
      "source": [
        "# Hitesh "
      ],
      "metadata": {
        "id": "THvjke5DEMfa"
      }
    },
    {
      "cell_type": "markdown",
      "source": [
        "## Data "
      ],
      "metadata": {
        "id": "hkNcRmeXEWm5"
      }
    },
    {
      "cell_type": "code",
      "source": [
        "df_hitesh = pd.read_csv('/content/HiteshChoudhary.csv')"
      ],
      "metadata": {
        "id": "bzMTOH7ZEQC9"
      },
      "execution_count": null,
      "outputs": []
    },
    {
      "cell_type": "markdown",
      "source": [
        "## Getting Published Time/Date"
      ],
      "metadata": {
        "id": "ACIIoQ8lErGW"
      }
    },
    {
      "cell_type": "code",
      "source": [
        "df_hitesh['Video publish time'] = pd.to_datetime(df_hitesh['publishedAt'])"
      ],
      "metadata": {
        "id": "_87DciGcEjVw"
      },
      "execution_count": null,
      "outputs": []
    },
    {
      "cell_type": "code",
      "source": [
        "#removing timezone\n",
        "df_hitesh['Video publish time'] = pd.to_datetime(df_hitesh['Video publish time']).dt.tz_localize(None)"
      ],
      "metadata": {
        "id": "o5zKZqgUE2tY"
      },
      "execution_count": null,
      "outputs": []
    },
    {
      "cell_type": "code",
      "source": [
        "df_hitesh['Video publish time'] = df_hitesh['Video publish time'].dt.date"
      ],
      "metadata": {
        "id": "M0G7ha7NFCGz"
      },
      "execution_count": null,
      "outputs": []
    },
    {
      "cell_type": "code",
      "source": [
        "df_hitesh['Video publish time'] = pd.to_datetime(df_hitesh['Video publish time'])"
      ],
      "metadata": {
        "id": "vysgqogEFIya"
      },
      "execution_count": null,
      "outputs": []
    },
    {
      "cell_type": "code",
      "source": [
        "df_hitesh['Video publish time'].head(3)"
      ],
      "metadata": {
        "colab": {
          "base_uri": "https://localhost:8080/"
        },
        "id": "KckvNh1oFWUV",
        "outputId": "37f91d7c-20ad-42c8-9e18-02e45819b26c"
      },
      "execution_count": null,
      "outputs": [
        {
          "output_type": "execute_result",
          "data": {
            "text/plain": [
              "0   2022-09-09\n",
              "1   2022-09-08\n",
              "2   2022-09-08\n",
              "Name: Video publish time, dtype: datetime64[ns]"
            ]
          },
          "metadata": {},
          "execution_count": 33
        }
      ]
    },
    {
      "cell_type": "markdown",
      "source": [
        "## Convertng Duration into Time"
      ],
      "metadata": {
        "id": "5AmwO-AoHQd0"
      }
    },
    {
      "cell_type": "code",
      "source": [
        "df_hitesh[\"duration_converted\"] = list(map(duration_convert,df_hitesh[\"duration\"]))"
      ],
      "metadata": {
        "id": "8xcNXcBYHYpr"
      },
      "execution_count": null,
      "outputs": []
    },
    {
      "cell_type": "code",
      "source": [
        "df_hitesh[\"duration_converted\"] = pd.to_datetime(df_hitesh[\"duration_converted\"])"
      ],
      "metadata": {
        "id": "KJIpegWjHiet"
      },
      "execution_count": null,
      "outputs": []
    },
    {
      "cell_type": "code",
      "source": [
        "df_hitesh[\"duration_converted_t\"] = df_hitesh[\"duration_converted\"].dt.time"
      ],
      "metadata": {
        "id": "xsiIjN6UHmEE"
      },
      "execution_count": null,
      "outputs": []
    },
    {
      "cell_type": "markdown",
      "source": [
        "## Average Duration"
      ],
      "metadata": {
        "id": "EwFFSG3lH8sF"
      }
    },
    {
      "cell_type": "code",
      "source": [
        "df_hitesh['Avg_duration_sec'] = df_hitesh['duration_converted_t'].apply(lambda x: x.second + x.minute*60 + x.hour*3600)"
      ],
      "metadata": {
        "id": "ARVGeNIhIAS2"
      },
      "execution_count": null,
      "outputs": []
    },
    {
      "cell_type": "code",
      "source": [
        "df_hitesh['Avg_duration_sec'].head(3)"
      ],
      "metadata": {
        "colab": {
          "base_uri": "https://localhost:8080/"
        },
        "id": "Id6uwEhmIGCR",
        "outputId": "14be5414-ec63-4914-9c77-8ce38b30dc34"
      },
      "execution_count": null,
      "outputs": [
        {
          "output_type": "execute_result",
          "data": {
            "text/plain": [
              "0    578\n",
              "1     57\n",
              "2    734\n",
              "Name: Avg_duration_sec, dtype: int64"
            ]
          },
          "metadata": {},
          "execution_count": 41
        }
      ]
    },
    {
      "cell_type": "markdown",
      "source": [
        "## Engagement Ratio"
      ],
      "metadata": {
        "id": "2wqODvRSIQQi"
      }
    },
    {
      "cell_type": "code",
      "source": [
        "df_hitesh['Engagement_ratio'] =  (df_hitesh['commentCount'] + df_hitesh['likeCount']) /df_hitesh.viewCount"
      ],
      "metadata": {
        "id": "kYa9TZMCIWOq"
      },
      "execution_count": null,
      "outputs": []
    },
    {
      "cell_type": "code",
      "source": [
        "df_hitesh['Engagement_ratio'].head(3)"
      ],
      "metadata": {
        "colab": {
          "base_uri": "https://localhost:8080/"
        },
        "id": "vwJb1eFTIi6Y",
        "outputId": "6e497871-d26d-44d4-9d47-b045e86dc451"
      },
      "execution_count": null,
      "outputs": [
        {
          "output_type": "execute_result",
          "data": {
            "text/plain": [
              "0    0.099505\n",
              "1    0.088408\n",
              "2    0.086745\n",
              "Name: Engagement_ratio, dtype: float64"
            ]
          },
          "metadata": {},
          "execution_count": 43
        }
      ]
    },
    {
      "cell_type": "markdown",
      "source": [
        "## Subscribers Count"
      ],
      "metadata": {
        "id": "i2t50ynEIoUh"
      }
    },
    {
      "cell_type": "code",
      "source": [
        "df_hitesh[\"view/subs_count\"] = df_hitesh[\"viewCount\"]/df_channel.loc[0,\"subscribers\"]"
      ],
      "metadata": {
        "id": "PVqReVBQIm57"
      },
      "execution_count": null,
      "outputs": []
    },
    {
      "cell_type": "code",
      "source": [
        "df_hitesh[\"view/subs_count\"].head(3)"
      ],
      "metadata": {
        "colab": {
          "base_uri": "https://localhost:8080/"
        },
        "id": "GX1HjLDWI0Sy",
        "outputId": "c3191f0c-33af-4e16-ed5d-da030583427f"
      },
      "execution_count": null,
      "outputs": [
        {
          "output_type": "execute_result",
          "data": {
            "text/plain": [
              "0    0.010952\n",
              "1    0.011591\n",
              "2    0.003176\n",
              "Name: view/subs_count, dtype: float64"
            ]
          },
          "metadata": {},
          "execution_count": 45
        }
      ]
    },
    {
      "cell_type": "markdown",
      "source": [
        "## Saving file to csv"
      ],
      "metadata": {
        "id": "Qkx831MGFdhG"
      }
    },
    {
      "cell_type": "code",
      "source": [
        "df_hitesh.to_csv('Updated_hitesh.csv')"
      ],
      "metadata": {
        "id": "FAtmvK7dFYNS"
      },
      "execution_count": null,
      "outputs": []
    },
    {
      "cell_type": "markdown",
      "source": [
        "# Telusko"
      ],
      "metadata": {
        "id": "LUo3X3uuVRjS"
      }
    },
    {
      "cell_type": "markdown",
      "source": [
        "## Data"
      ],
      "metadata": {
        "id": "npVld9g9VinF"
      }
    },
    {
      "cell_type": "code",
      "source": [
        "df_telusko = pd.read_csv('/content/Telusko.csv')"
      ],
      "metadata": {
        "id": "nt_Ctw9PVTma"
      },
      "execution_count": null,
      "outputs": []
    },
    {
      "cell_type": "markdown",
      "source": [
        "## Getting Published Time/Date"
      ],
      "metadata": {
        "id": "Rk1GAlElV3EE"
      }
    },
    {
      "cell_type": "code",
      "source": [
        "df_telusko['Video publish time'] = pd.to_datetime(df_telusko['publishedAt'])"
      ],
      "metadata": {
        "id": "W4kwDKN8V74T"
      },
      "execution_count": null,
      "outputs": []
    },
    {
      "cell_type": "code",
      "source": [
        "#removing timezone\n",
        "df_telusko['Video publish time'] = pd.to_datetime(df_telusko['Video publish time']).dt.tz_localize(None)"
      ],
      "metadata": {
        "id": "x5CEat13WGre"
      },
      "execution_count": null,
      "outputs": []
    },
    {
      "cell_type": "code",
      "source": [
        "df_telusko['Video publish time'] = df_telusko['Video publish time'].dt.date"
      ],
      "metadata": {
        "id": "IejAsCY4WNsl"
      },
      "execution_count": null,
      "outputs": []
    },
    {
      "cell_type": "code",
      "source": [
        "df_telusko['Video publish time'] = pd.to_datetime(df_telusko['Video publish time'])"
      ],
      "metadata": {
        "id": "ywydv0SPWRCN"
      },
      "execution_count": null,
      "outputs": []
    },
    {
      "cell_type": "code",
      "source": [
        "df_telusko['Video publish time'].head(3)"
      ],
      "metadata": {
        "colab": {
          "base_uri": "https://localhost:8080/"
        },
        "id": "FOQRp_HSWTwb",
        "outputId": "8306816d-824f-417b-e3ab-962a03fcaa51"
      },
      "execution_count": null,
      "outputs": [
        {
          "output_type": "execute_result",
          "data": {
            "text/plain": [
              "0   2022-09-07\n",
              "1   2022-09-03\n",
              "2   2022-09-01\n",
              "Name: Video publish time, dtype: datetime64[ns]"
            ]
          },
          "metadata": {},
          "execution_count": 52
        }
      ]
    },
    {
      "cell_type": "markdown",
      "source": [
        "## Converting Duration into Time"
      ],
      "metadata": {
        "id": "u8d4TKmAWmgI"
      }
    },
    {
      "cell_type": "code",
      "source": [
        "df_telusko[\"duration_converted\"] = list(map(duration_convert,df_telusko[\"duration\"]))"
      ],
      "metadata": {
        "id": "dLYV1zTuWrqF"
      },
      "execution_count": null,
      "outputs": []
    },
    {
      "cell_type": "code",
      "source": [
        "df_telusko[\"duration_converted\"] = pd.to_datetime(df_telusko[\"duration_converted\"])"
      ],
      "metadata": {
        "id": "Ogbn6aoAWvDk"
      },
      "execution_count": null,
      "outputs": []
    },
    {
      "cell_type": "code",
      "source": [
        "df_telusko[\"duration_converted_t\"] = df_telusko[\"duration_converted\"].dt.time"
      ],
      "metadata": {
        "id": "QpcJ9WasWu7r"
      },
      "execution_count": null,
      "outputs": []
    },
    {
      "cell_type": "markdown",
      "source": [
        "## Average Duration"
      ],
      "metadata": {
        "id": "XEJQHAOPXCfr"
      }
    },
    {
      "cell_type": "code",
      "source": [
        "df_telusko['Avg_duration_sec'] = df_telusko['duration_converted_t'].apply(lambda x: x.second + x.minute*60 + x.hour*3600)"
      ],
      "metadata": {
        "id": "6vm1CGFaXF4Q"
      },
      "execution_count": null,
      "outputs": []
    },
    {
      "cell_type": "code",
      "source": [
        "df_telusko['Avg_duration_sec'].head(3)"
      ],
      "metadata": {
        "colab": {
          "base_uri": "https://localhost:8080/"
        },
        "id": "d9wPenFRXQM1",
        "outputId": "537d94be-91b9-4421-9fcb-3fa1783fbb00"
      },
      "execution_count": null,
      "outputs": [
        {
          "output_type": "execute_result",
          "data": {
            "text/plain": [
              "0    413\n",
              "1    790\n",
              "2    506\n",
              "Name: Avg_duration_sec, dtype: int64"
            ]
          },
          "metadata": {},
          "execution_count": 57
        }
      ]
    },
    {
      "cell_type": "markdown",
      "source": [
        "## Engagement Ratio"
      ],
      "metadata": {
        "id": "a_xOr5goXTQ0"
      }
    },
    {
      "cell_type": "code",
      "source": [
        "df_telusko['Engagement_ratio'] =  (df_telusko['commentCount'] + df_telusko['likeCount']) /df_telusko.viewCount"
      ],
      "metadata": {
        "id": "s9qjLeX2XR_t"
      },
      "execution_count": null,
      "outputs": []
    },
    {
      "cell_type": "code",
      "source": [
        "df_telusko['Engagement_ratio'].head(3)"
      ],
      "metadata": {
        "colab": {
          "base_uri": "https://localhost:8080/"
        },
        "id": "IhRTswOaXnzE",
        "outputId": "50fb5d12-1c0c-4bdf-b234-7a49ca322dbf"
      },
      "execution_count": null,
      "outputs": [
        {
          "output_type": "execute_result",
          "data": {
            "text/plain": [
              "0    0.042047\n",
              "1    0.018591\n",
              "2    0.036896\n",
              "Name: Engagement_ratio, dtype: float64"
            ]
          },
          "metadata": {},
          "execution_count": 59
        }
      ]
    },
    {
      "cell_type": "markdown",
      "source": [
        "## Subscribers Count"
      ],
      "metadata": {
        "id": "jtx29SOgXq-z"
      }
    },
    {
      "cell_type": "code",
      "source": [
        "df_telusko[\"view/subs_count\"] = df_telusko[\"viewCount\"]/df_channel.loc[0,\"subscribers\"]"
      ],
      "metadata": {
        "id": "t1Mg-P2OXpfX"
      },
      "execution_count": null,
      "outputs": []
    },
    {
      "cell_type": "code",
      "source": [
        "df_telusko[\"view/subs_count\"].head(3)"
      ],
      "metadata": {
        "colab": {
          "base_uri": "https://localhost:8080/"
        },
        "id": "tf0qXX0fX6o9",
        "outputId": "273b7c89-cd4c-4118-fef2-e95d932d258d"
      },
      "execution_count": null,
      "outputs": [
        {
          "output_type": "execute_result",
          "data": {
            "text/plain": [
              "0    0.013732\n",
              "1    0.046378\n",
              "2    0.081477\n",
              "Name: view/subs_count, dtype: float64"
            ]
          },
          "metadata": {},
          "execution_count": 61
        }
      ]
    },
    {
      "cell_type": "markdown",
      "source": [
        "## Saving file to csv"
      ],
      "metadata": {
        "id": "WguGOo8EX7oN"
      }
    },
    {
      "cell_type": "code",
      "source": [
        "df_telusko.to_csv('Updated_telusko.csv')"
      ],
      "metadata": {
        "id": "NBYeJzEfX_hQ"
      },
      "execution_count": null,
      "outputs": []
    },
    {
      "cell_type": "markdown",
      "source": [
        "# MySirG.com"
      ],
      "metadata": {
        "id": "WrxMr6paYYiw"
      }
    },
    {
      "cell_type": "markdown",
      "source": [
        "## Data"
      ],
      "metadata": {
        "id": "X3U2mXmXZCi7"
      }
    },
    {
      "cell_type": "code",
      "source": [
        "df_sirG = pd.read_csv('/content/MySirG.com.csv')"
      ],
      "metadata": {
        "id": "_Z1_WNo-YbwU"
      },
      "execution_count": null,
      "outputs": []
    },
    {
      "cell_type": "markdown",
      "source": [
        "## Getting Published Time/Date"
      ],
      "metadata": {
        "id": "FN8I7muAZIE-"
      }
    },
    {
      "cell_type": "code",
      "source": [
        "df_sirG['Video publish time'] = pd.to_datetime(df_sirG['publishedAt'])"
      ],
      "metadata": {
        "id": "NxGcQ20JZMcr"
      },
      "execution_count": null,
      "outputs": []
    },
    {
      "cell_type": "code",
      "source": [
        "#removing timezone\n",
        "df_sirG['Video publish time'] = pd.to_datetime(df_sirG['Video publish time']).dt.tz_localize(None)"
      ],
      "metadata": {
        "id": "fxSJx-zeZlNR"
      },
      "execution_count": null,
      "outputs": []
    },
    {
      "cell_type": "code",
      "source": [
        "df_sirG['Video publish time'] = df_sirG['Video publish time'].dt.date"
      ],
      "metadata": {
        "id": "LZTiU3UaZk7H"
      },
      "execution_count": null,
      "outputs": []
    },
    {
      "cell_type": "code",
      "source": [
        "df_sirG['Video publish time'] = pd.to_datetime(df_sirG['Video publish time'])"
      ],
      "metadata": {
        "id": "G-rkhps4Zkhm"
      },
      "execution_count": null,
      "outputs": []
    },
    {
      "cell_type": "code",
      "source": [
        "df_sirG['Video publish time'].head(3)"
      ],
      "metadata": {
        "colab": {
          "base_uri": "https://localhost:8080/"
        },
        "id": "N0m-xJvvZtRk",
        "outputId": "ec51c009-7bc9-4930-8b41-f1c11d13acd4"
      },
      "execution_count": null,
      "outputs": [
        {
          "output_type": "execute_result",
          "data": {
            "text/plain": [
              "0   2022-09-05\n",
              "1   2022-09-05\n",
              "2   2022-09-04\n",
              "Name: Video publish time, dtype: datetime64[ns]"
            ]
          },
          "metadata": {},
          "execution_count": 69
        }
      ]
    },
    {
      "cell_type": "markdown",
      "source": [
        "## Converting Duration into Time"
      ],
      "metadata": {
        "id": "mupg_Xc9ZOBX"
      }
    },
    {
      "cell_type": "code",
      "source": [
        "df_sirG[\"duration_converted\"] = list(map(duration_convert,df_sirG[\"duration\"]))"
      ],
      "metadata": {
        "id": "2hYmNqiWZSox"
      },
      "execution_count": null,
      "outputs": []
    },
    {
      "cell_type": "code",
      "source": [
        "df_sirG[\"duration_converted\"]"
      ],
      "metadata": {
        "id": "SbaDilV5oiPh"
      },
      "execution_count": null,
      "outputs": []
    },
    {
      "cell_type": "code",
      "source": [
        "df_sirG[\"duration_converted\"] = pd.to_datetime(df_sirG[\"duration_converted\"])"
      ],
      "metadata": {
        "id": "_rhlSIaNZ0ib"
      },
      "execution_count": null,
      "outputs": []
    },
    {
      "cell_type": "code",
      "source": [
        "df_sirG[\"duration_converted_t\"] = df_sirG[\"duration_converted\"].dt.time"
      ],
      "metadata": {
        "id": "T0SsFRlXZ0VO"
      },
      "execution_count": null,
      "outputs": []
    },
    {
      "cell_type": "markdown",
      "source": [
        "## Average Duration"
      ],
      "metadata": {
        "id": "CdT_5OASZTbY"
      }
    },
    {
      "cell_type": "code",
      "source": [
        "df_sirG['Avg_duration_sec'] = df_sirG['duration_converted_t'].apply(lambda x: x.second + x.minute*60 + x.hour*3600)"
      ],
      "metadata": {
        "id": "CdW3B6w9ZWaP"
      },
      "execution_count": null,
      "outputs": []
    },
    {
      "cell_type": "markdown",
      "source": [
        "## Engagement Ratio"
      ],
      "metadata": {
        "id": "m1oXHxaEZXdq"
      }
    },
    {
      "cell_type": "code",
      "source": [
        "df_sirG['Engagement_ratio'] =  (df_sirG['commentCount'] + df_sirG['likeCount']) /df_sirG.viewCount"
      ],
      "metadata": {
        "id": "Df1Y_W_xZZ08"
      },
      "execution_count": null,
      "outputs": []
    },
    {
      "cell_type": "markdown",
      "source": [
        "## Subscribers Count"
      ],
      "metadata": {
        "id": "qT4lAw4uZamz"
      }
    },
    {
      "cell_type": "code",
      "source": [
        "df_sirG[\"view/subs_count\"] = df_sirG[\"viewCount\"]/df_channel.loc[0,\"subscribers\"]"
      ],
      "metadata": {
        "id": "pAYkYlAWZdHD"
      },
      "execution_count": null,
      "outputs": []
    },
    {
      "cell_type": "markdown",
      "source": [
        "## Saving file to csv"
      ],
      "metadata": {
        "id": "B_xnsok2Zd4D"
      }
    },
    {
      "cell_type": "code",
      "source": [
        "df_sirG.to_csv('Updated_MysirG.csv')"
      ],
      "metadata": {
        "id": "ZSkVxch1Zg1Y"
      },
      "execution_count": null,
      "outputs": []
    },
    {
      "cell_type": "code",
      "source": [
        "df_channel.columns"
      ],
      "metadata": {
        "colab": {
          "base_uri": "https://localhost:8080/"
        },
        "id": "tytcVf8T8F1Y",
        "outputId": "affbde84-beb7-4881-dabe-1452ed111b36"
      },
      "execution_count": null,
      "outputs": [
        {
          "output_type": "execute_result",
          "data": {
            "text/plain": [
              "Index(['channelName', 'description', 'publishdate', 'subscribers', 'views',\n",
              "       'totalVideos', 'playlistId', 'thumbnail'],\n",
              "      dtype='object')"
            ]
          },
          "metadata": {},
          "execution_count": 122
        }
      ]
    },
    {
      "cell_type": "code",
      "source": [
        "df_channel['thumbnail'][3]"
      ],
      "metadata": {
        "colab": {
          "base_uri": "https://localhost:8080/",
          "height": 36
        },
        "id": "g1EUXIyn8Hxr",
        "outputId": "4dd65675-27e7-4fcd-dd54-2615c2023310"
      },
      "execution_count": null,
      "outputs": [
        {
          "output_type": "execute_result",
          "data": {
            "text/plain": [
              "'https://yt3.ggpht.com/o4MZVi2qdNgx0K7vpEl7DT2PefjROdisZTD7is6TMimF1_DTM49O1ld3iQzTpE5MCj86c-vzav8=s800-c-k-c0x00ffffff-no-rj'"
            ],
            "application/vnd.google.colaboratory.intrinsic+json": {
              "type": "string"
            }
          },
          "metadata": {},
          "execution_count": 124
        }
      ]
    },
    {
      "cell_type": "code",
      "source": [],
      "metadata": {
        "id": "wPA6IwUd8iCh"
      },
      "execution_count": null,
      "outputs": []
    }
  ]
}
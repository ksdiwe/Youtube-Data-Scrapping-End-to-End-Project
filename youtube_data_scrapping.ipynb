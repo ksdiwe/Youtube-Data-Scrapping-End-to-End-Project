{
 "cells": [
  {
   "cell_type": "markdown",
   "metadata": {},
   "source": [
    "# Data Scrapping using YouTube API for Most Popular Youtube Channels"
   ]
  },
  {
   "cell_type": "markdown",
   "metadata": {},
   "source": [
    "## Importing Libraries"
   ]
  },
  {
   "cell_type": "code",
   "execution_count": 57,
   "metadata": {},
   "outputs": [],
   "source": [
    "import pandas as pd\n",
    "import numpy as np\n",
    "\n",
    "# Google API\n",
    "from googleapiclient.discovery import build"
   ]
  },
  {
   "cell_type": "markdown",
   "metadata": {},
   "source": [
    "## Data Creation with YouTube API"
   ]
  },
  {
   "cell_type": "code",
   "execution_count": 58,
   "metadata": {},
   "outputs": [],
   "source": [
    "api_key = \"##############5wLLlYnzcjlEeR_##########\"\n",
    "\n",
    "   #summary:\n",
    "   # Here as per the requirements we collected channel ids from their respective Channels.\n",
    "   # Krish Naik: https://www.youtube.com/user/krishnaik06\n",
    "   # Hitesh Choudhary: https://www.youtube.com/c/HiteshChoudharydotcom\n",
    "   # Naveen Reddy(Telusko): https://www.youtube.com/c/Telusko\n",
    "   # Saurabh Shukla(My SirG.com): https://www.youtube.com/user/saurabhexponent1\"\"\"\n",
    "\n",
    "\n",
    "channel_ids = ['UCNU_lfiiWBdtULKOw6X0Dig', # Krish Naik\n",
    "               'UCXgGY0wkgOzynnHvSEVmE3A', # Hitesh Choudhary\n",
    "               'UC59K-uG2A5ogwIrHw4bmlEg', # Telusko\n",
    "               'UCkGS_3D0HEzfflFnG0bD24A', # My SirG.com\n",
    "]\n",
    "\n",
    "youtube = build('youtube', 'v3', developerKey=api_key)"
   ]
  },
  {
   "cell_type": "markdown",
   "metadata": {},
   "source": [
    "### Channel Statistics"
   ]
  },
  {
   "cell_type": "code",
   "execution_count": 39,
   "metadata": {},
   "outputs": [],
   "source": [
    "def get_channel_stats(youtube, channel_ids):\n",
    "    \"\"\"\n",
    "    Get channel statistics: title, subscriber count, view count, video count, upload playlist\n",
    "    Params:\n",
    "    \n",
    "    youtube: the build object from googleapiclient.discovery\n",
    "    channels_ids: list of channel IDs\n",
    "    \n",
    "    Returns:\n",
    "    Dataframe containing the channel statistics for all channels in the provided list: title, subscriber count, view count, video count, upload playlist\n",
    "    \n",
    "    \"\"\"\n",
    "    all_data = []\n",
    "    request = youtube.channels().list(\n",
    "                part='snippet,contentDetails,statistics',\n",
    "                id=','.join(channel_ids))\n",
    "    response = request.execute() \n",
    "    \n",
    "    for i in range(len(response['items'])):\n",
    "        data = dict(channelName = response['items'][i]['snippet']['title'],\n",
    "                    description = response['items'][i]['snippet']['description'],\n",
    "                    publishdate = response['items'][i]['snippet']['publishedAt'],\n",
    "                    subscribers = response['items'][i]['statistics']['subscriberCount'],\n",
    "                    views = response['items'][i]['statistics']['viewCount'],\n",
    "                    totalVideos = response['items'][i]['statistics']['videoCount'],\n",
    "                    playlistId = response['items'][i]['contentDetails']['relatedPlaylists']['uploads'],\n",
    "                    thumbnail =  response['items'][i]['snippet']['thumbnails']['high']['url']\n",
    "                    )\n",
    "        all_data.append(data)\n",
    "    \n",
    "    return pd.DataFrame(all_data)"
   ]
  },
  {
   "cell_type": "code",
   "execution_count": 40,
   "metadata": {},
   "outputs": [],
   "source": [
    "channel_data = get_channel_stats(youtube, channel_ids)\n",
    "#channel_data"
   ]
  },
  {
   "cell_type": "code",
   "execution_count": 41,
   "metadata": {},
   "outputs": [
    {
     "data": {
      "text/plain": [
       "channelName    object\n",
       "description    object\n",
       "publishdate    object\n",
       "subscribers    object\n",
       "views          object\n",
       "totalVideos    object\n",
       "playlistId     object\n",
       "thumbnail      object\n",
       "dtype: object"
      ]
     },
     "execution_count": 41,
     "metadata": {},
     "output_type": "execute_result"
    }
   ],
   "source": [
    "channel_data.dtypes"
   ]
  },
  {
   "cell_type": "markdown",
   "metadata": {},
   "source": [
    "I noticed that the numeric columns are in string format, so I will convert them into numeric so that we can visualize and do numeric operations on them."
   ]
  },
  {
   "cell_type": "code",
   "execution_count": 42,
   "metadata": {},
   "outputs": [],
   "source": [
    "# Convert count columns to numeric columns\n",
    "numeric_cols = ['subscribers', 'views', 'totalVideos']\n",
    "channel_data[numeric_cols] = channel_data[numeric_cols].apply(pd.to_numeric, errors='coerce')"
   ]
  },
  {
   "cell_type": "markdown",
   "metadata": {},
   "source": [
    "## Get Video Statistics for all the Channels"
   ]
  },
  {
   "cell_type": "code",
   "execution_count": 59,
   "metadata": {},
   "outputs": [],
   "source": [
    "def get_video_ids(youtube, playlist_id):\n",
    "    \"\"\"\n",
    "    Get list of video IDs of all videos in the given playlist\n",
    "    Params:\n",
    "    \n",
    "    youtube: the build object from googleapiclient.discovery\n",
    "    playlist_id: playlist ID of the channel\n",
    "    \n",
    "    Returns:\n",
    "    List of video IDs of all videos in the playlist\n",
    "    \n",
    "    \"\"\"\n",
    "    \n",
    "    request = youtube.playlistItems().list(\n",
    "                part='contentDetails',\n",
    "                playlistId = playlist_id,\n",
    "                maxResults = 50)\n",
    "    response = request.execute()\n",
    "    \n",
    "    video_ids = []\n",
    "    \n",
    "    for i in range(len(response['items'])):\n",
    "        video_ids.append(response['items'][i]['contentDetails']['videoId'])\n",
    "        \n",
    "    next_page_token = response.get('nextPageToken')\n",
    "    more_pages = True\n",
    "    \n",
    "    while more_pages:\n",
    "        if next_page_token is None:\n",
    "            more_pages = False\n",
    "        else:\n",
    "            request = youtube.playlistItems().list(\n",
    "                        part='contentDetails',\n",
    "                        playlistId = playlist_id,\n",
    "                        maxResults = 50,\n",
    "                        pageToken = next_page_token)\n",
    "            response = request.execute()\n",
    "    \n",
    "            for i in range(len(response['items'])):\n",
    "                video_ids.append(response['items'][i]['contentDetails']['videoId'])\n",
    "            \n",
    "            next_page_token = response.get('nextPageToken')\n",
    "        \n",
    "    return video_ids[:50] # we only want 50 video from each channel"
   ]
  },
  {
   "cell_type": "code",
   "execution_count": 60,
   "metadata": {},
   "outputs": [],
   "source": [
    "def get_video_details(youtube, video_ids):\n",
    "    \"\"\"\n",
    "    Get video statistics of all videos with given IDs\n",
    "    Params:\n",
    "    \n",
    "    youtube: the build object from googleapiclient.discovery\n",
    "    video_ids: list of video IDs\n",
    "    \n",
    "    Returns:\n",
    "    Dataframe with statistics of videos, i.e.:\n",
    "        'channelTitle', 'title', 'description', 'tags', 'publishedAt'\n",
    "        'viewCount', 'likeCount', 'favoriteCount', 'commentCount'\n",
    "        'duration', 'definition', 'caption'\n",
    "    \"\"\"\n",
    "        \n",
    "    all_video_info = []\n",
    "    \n",
    "    for i in range(0, len(video_ids), 50):\n",
    "        request = youtube.videos().list(\n",
    "            part=\"snippet,contentDetails,statistics\",\n",
    "            id=','.join(video_ids[i:i+50])\n",
    "        )\n",
    "        response = request.execute() \n",
    "\n",
    "        for video in response['items']:\n",
    "            stats_to_keep = {'snippet': ['channelTitle', 'title', 'description', 'tags', 'publishedAt'],\n",
    "                             'statistics': ['viewCount', 'likeCount', 'favouriteCount', 'commentCount'],\n",
    "                             'contentDetails': ['duration', 'definition', 'caption']\n",
    "                            }\n",
    "            video_info = {}\n",
    "            video_info['video_id'] = video['id']\n",
    "\n",
    "            for k in stats_to_keep.keys():\n",
    "                for v in stats_to_keep[k]:\n",
    "                    try:\n",
    "                        video_info[v] = video[k][v]\n",
    "                    except:\n",
    "                        video_info[v] = None\n",
    "\n",
    "            all_video_info.append(video_info)\n",
    "    return all_video_info"
   ]
  },
  {
   "cell_type": "code",
   "execution_count": 61,
   "metadata": {},
   "outputs": [
    {
     "name": "stdout",
     "output_type": "stream",
     "text": [
      "Getting video information from channel: Krish Naik\n"
     ]
    },
    {
     "name": "stderr",
     "output_type": "stream",
     "text": [
      "C:\\Users\\ksdiw\\AppData\\Local\\Temp\\ipykernel_15920\\734144755.py:17: FutureWarning: The frame.append method is deprecated and will be removed from pandas in a future version. Use pandas.concat instead.\n",
      "  video_df = video_df.append(video_data)\n"
     ]
    },
    {
     "name": "stdout",
     "output_type": "stream",
     "text": [
      "Getting video information from channel: Hitesh Choudhary\n"
     ]
    },
    {
     "name": "stderr",
     "output_type": "stream",
     "text": [
      "C:\\Users\\ksdiw\\AppData\\Local\\Temp\\ipykernel_15920\\734144755.py:17: FutureWarning: The frame.append method is deprecated and will be removed from pandas in a future version. Use pandas.concat instead.\n",
      "  video_df = video_df.append(video_data)\n"
     ]
    },
    {
     "name": "stdout",
     "output_type": "stream",
     "text": [
      "Getting video information from channel: MySirG.com\n"
     ]
    },
    {
     "name": "stderr",
     "output_type": "stream",
     "text": [
      "C:\\Users\\ksdiw\\AppData\\Local\\Temp\\ipykernel_15920\\734144755.py:17: FutureWarning: The frame.append method is deprecated and will be removed from pandas in a future version. Use pandas.concat instead.\n",
      "  video_df = video_df.append(video_data)\n"
     ]
    },
    {
     "name": "stdout",
     "output_type": "stream",
     "text": [
      "Getting video information from channel: Telusko\n"
     ]
    },
    {
     "name": "stderr",
     "output_type": "stream",
     "text": [
      "C:\\Users\\ksdiw\\AppData\\Local\\Temp\\ipykernel_15920\\734144755.py:17: FutureWarning: The frame.append method is deprecated and will be removed from pandas in a future version. Use pandas.concat instead.\n",
      "  video_df = video_df.append(video_data)\n"
     ]
    }
   ],
   "source": [
    "\n",
    "video_df = pd.DataFrame()\n",
    "#comments_df = pd.DataFrame()\n",
    "\n",
    "for c in channel_data['channelName'].unique():\n",
    "    \n",
    "    print(\"Getting video information from channel: \" + c)\n",
    "    playlist_id = channel_data.loc[channel_data['channelName']== c, 'playlistId'].iloc[0]\n",
    "    video_ids = get_video_ids(youtube, playlist_id)\n",
    "        \n",
    "    # get video data\n",
    "    video_data = get_video_details(youtube, video_ids)\n",
    "    # get comment data\n",
    "    #comments_data = get_comments_in_videos(youtube, video_ids)\n",
    "\n",
    "    # append video data together and comment data toghether\n",
    "   \n",
    "    video_df = video_df.append(video_data)\n",
    "    #comments_df = comments_df.append(comments_data, ignore_index=True)\n",
    "       \n",
    "   "
   ]
  },
  {
   "cell_type": "code",
   "execution_count": 92,
   "metadata": {},
   "outputs": [
    {
     "data": {
      "text/plain": [
       "video_id          object\n",
       "channelTitle      object\n",
       "title             object\n",
       "description       object\n",
       "tags              object\n",
       "publishedAt       object\n",
       "viewCount         object\n",
       "likeCount         object\n",
       "favouriteCount    object\n",
       "commentCount      object\n",
       "duration          object\n",
       "definition        object\n",
       "caption           object\n",
       "dtype: object"
      ]
     },
     "execution_count": 92,
     "metadata": {},
     "output_type": "execute_result"
    }
   ],
   "source": [
    "video_df.dtypes"
   ]
  },
  {
   "cell_type": "code",
   "execution_count": 94,
   "metadata": {},
   "outputs": [],
   "source": [
    "cols = ['viewCount', 'likeCount', 'favouriteCount', 'commentCount']\n",
    "video_df[cols] = video_df[cols].apply(pd.to_numeric, errors='coerce', axis=1)"
   ]
  },
  {
   "cell_type": "markdown",
   "metadata": {},
   "source": [
    "## Get Comment Data"
   ]
  },
  {
   "cell_type": "code",
   "execution_count": 76,
   "metadata": {},
   "outputs": [],
   "source": [
    "def get_comments_in_videos(youtube, video_ids):\n",
    "    all_comments = []\n",
    "\n",
    "    for video_id in video_ids:\n",
    "        data = youtube.commentThreads().list(\n",
    "            part='snippet,replies', \n",
    "            videoId=video_id, \n",
    "            maxResults='100', \n",
    "            textFormat=\"plainText\").execute()\n",
    "\n",
    "        for i in data[\"items\"]:\n",
    "            commentsData = dict(\n",
    "\n",
    "            name = i[\"snippet\"]['topLevelComment'][\"snippet\"][\"authorDisplayName\"],\n",
    "            comment = i[\"snippet\"]['topLevelComment'][\"snippet\"][\"textDisplay\"],\n",
    "            published_at = i[\"snippet\"]['topLevelComment'][\"snippet\"]['publishedAt'],\n",
    "            likes = i[\"snippet\"]['topLevelComment'][\"snippet\"]['likeCount'],\n",
    "            replies = i[\"snippet\"]['totalReplyCount'])\n",
    "\n",
    "            all_comments.append(commentsData)\n",
    "\n",
    "            totalReplyCount = i[\"snippet\"]['totalReplyCount']\n",
    "\n",
    "            if totalReplyCount > 0:\n",
    "\n",
    "                parent = i[\"snippet\"]['topLevelComment'][\"id\"]\n",
    "\n",
    "                data2 = youtube.comments().list(part='snippet', maxResults='100', parentId=parent,\n",
    "                                                textFormat=\"plainText\").execute()\n",
    "\n",
    "                for i in data2[\"items\"]:\n",
    "                    commentsData = dict(\n",
    "                    name = i[\"snippet\"][\"authorDisplayName\"],\n",
    "                    comment = i[\"snippet\"][\"textDisplay\"],\n",
    "                    published_at = i[\"snippet\"]['publishedAt'],\n",
    "                    likes = i[\"snippet\"]['likeCount'],\n",
    "                    replies = \"\")\n",
    "\n",
    "                    all_comments.append(commentsData)\n",
    "\n",
    "        while (\"nextPageToken\" in data):\n",
    "\n",
    "            data = youtube.commentThreads().list(part='snippet', videoId=video_id, pageToken=data[\"nextPageToken\"],\n",
    "                                                maxResults='100', textFormat=\"plainText\").execute()\n",
    "\n",
    "            for i in data[\"items\"]:\n",
    "                commentsData = dict(\n",
    "                name = i[\"snippet\"]['topLevelComment'][\"snippet\"][\"authorDisplayName\"],\n",
    "                comment = i[\"snippet\"]['topLevelComment'][\"snippet\"][\"textDisplay\"],\n",
    "                published_at = i[\"snippet\"]['topLevelComment'][\"snippet\"]['publishedAt'],\n",
    "                likes = i[\"snippet\"]['topLevelComment'][\"snippet\"]['likeCount'],\n",
    "                replies = i[\"snippet\"]['totalReplyCount'])\n",
    "\n",
    "                all_comments.append(commentsData)\n",
    "\n",
    "                totalReplyCount = i[\"snippet\"]['totalReplyCount']\n",
    "\n",
    "                if totalReplyCount > 0:\n",
    "\n",
    "                    parent = i[\"snippet\"]['topLevelComment'][\"id\"]\n",
    "\n",
    "                    data2 = youtube.comments().list(part='snippet', maxResults='100', parentId=parent,\n",
    "                                                    textFormat=\"plainText\").execute()\n",
    "\n",
    "                    for i in data2[\"items\"]:\n",
    "                        commentsData = dict(\n",
    "                        name = i[\"snippet\"][\"authorDisplayName\"],\n",
    "                        comment = i[\"snippet\"][\"textDisplay\"],\n",
    "                        published_at = i[\"snippet\"]['publishedAt'],\n",
    "                        likes = i[\"snippet\"]['likeCount'],\n",
    "                        replies = '')\n",
    "\n",
    "                        all_comments.append(commentsData)\n",
    "\n",
    "    \n",
    "\n",
    "    return all_comments"
   ]
  },
  {
   "cell_type": "code",
   "execution_count": 77,
   "metadata": {},
   "outputs": [
    {
     "name": "stdout",
     "output_type": "stream",
     "text": [
      "Getting video information from channel: Krish Naik\n"
     ]
    },
    {
     "name": "stderr",
     "output_type": "stream",
     "text": [
      "C:\\Users\\ksdiw\\AppData\\Local\\Temp\\ipykernel_15920\\2592217625.py:17: FutureWarning: The frame.append method is deprecated and will be removed from pandas in a future version. Use pandas.concat instead.\n",
      "  comments_df = comments_df.append(comments_data, ignore_index=True)\n"
     ]
    },
    {
     "name": "stdout",
     "output_type": "stream",
     "text": [
      "Getting video information from channel: Hitesh Choudhary\n"
     ]
    },
    {
     "name": "stderr",
     "output_type": "stream",
     "text": [
      "C:\\Users\\ksdiw\\AppData\\Local\\Temp\\ipykernel_15920\\2592217625.py:17: FutureWarning: The frame.append method is deprecated and will be removed from pandas in a future version. Use pandas.concat instead.\n",
      "  comments_df = comments_df.append(comments_data, ignore_index=True)\n"
     ]
    },
    {
     "name": "stdout",
     "output_type": "stream",
     "text": [
      "Getting video information from channel: MySirG.com\n"
     ]
    },
    {
     "name": "stderr",
     "output_type": "stream",
     "text": [
      "C:\\Users\\ksdiw\\AppData\\Local\\Temp\\ipykernel_15920\\2592217625.py:17: FutureWarning: The frame.append method is deprecated and will be removed from pandas in a future version. Use pandas.concat instead.\n",
      "  comments_df = comments_df.append(comments_data, ignore_index=True)\n"
     ]
    },
    {
     "name": "stdout",
     "output_type": "stream",
     "text": [
      "Getting video information from channel: Telusko\n"
     ]
    },
    {
     "name": "stderr",
     "output_type": "stream",
     "text": [
      "C:\\Users\\ksdiw\\AppData\\Local\\Temp\\ipykernel_15920\\2592217625.py:17: FutureWarning: The frame.append method is deprecated and will be removed from pandas in a future version. Use pandas.concat instead.\n",
      "  comments_df = comments_df.append(comments_data, ignore_index=True)\n"
     ]
    }
   ],
   "source": [
    "\n",
    "\n",
    "comments_df = pd.DataFrame()\n",
    "\n",
    "for c in channel_data['channelName'].unique():\n",
    "    \n",
    "    print(\"Getting video information from channel: \" + c)\n",
    "    playlist_id = channel_data.loc[channel_data['channelName']== c, 'playlistId'].iloc[0]\n",
    "    video_ids = get_video_ids(youtube, playlist_id)\n",
    "        \n",
    "    # get video data\n",
    "    \n",
    "    # get comment data\n",
    "    comments_data = get_comments_in_videos(youtube, video_ids)\n",
    "\n",
    "    # append video data together and comment data toghether\n",
    "   \n",
    "    \n",
    "    comments_df = comments_df.append(comments_data, ignore_index=True)"
   ]
  },
  {
   "cell_type": "code",
   "execution_count": 78,
   "metadata": {},
   "outputs": [
    {
     "data": {
      "text/html": [
       "<div>\n",
       "<style scoped>\n",
       "    .dataframe tbody tr th:only-of-type {\n",
       "        vertical-align: middle;\n",
       "    }\n",
       "\n",
       "    .dataframe tbody tr th {\n",
       "        vertical-align: top;\n",
       "    }\n",
       "\n",
       "    .dataframe thead th {\n",
       "        text-align: right;\n",
       "    }\n",
       "</style>\n",
       "<table border=\"1\" class=\"dataframe\">\n",
       "  <thead>\n",
       "    <tr style=\"text-align: right;\">\n",
       "      <th></th>\n",
       "      <th>name</th>\n",
       "      <th>comment</th>\n",
       "      <th>published_at</th>\n",
       "      <th>likes</th>\n",
       "      <th>replies</th>\n",
       "    </tr>\n",
       "  </thead>\n",
       "  <tbody>\n",
       "    <tr>\n",
       "      <th>0</th>\n",
       "      <td>Krish Naik</td>\n",
       "      <td>Happy Teacher's Day. On the occasion of this a...</td>\n",
       "      <td>2022-09-08T11:22:40Z</td>\n",
       "      <td>4</td>\n",
       "      <td>3</td>\n",
       "    </tr>\n",
       "    <tr>\n",
       "      <th>1</th>\n",
       "      <td>San Malli</td>\n",
       "      <td>Hello sir i want to learn ai from your channel...</td>\n",
       "      <td>2022-09-08T13:18:26Z</td>\n",
       "      <td>0</td>\n",
       "      <td></td>\n",
       "    </tr>\n",
       "    <tr>\n",
       "      <th>2</th>\n",
       "      <td>Aditya kumar</td>\n",
       "      <td>But teachers day to 3 din pahle tha na🤔</td>\n",
       "      <td>2022-09-08T11:44:57Z</td>\n",
       "      <td>0</td>\n",
       "      <td></td>\n",
       "    </tr>\n",
       "    <tr>\n",
       "      <th>3</th>\n",
       "      <td>Aditya kumar</td>\n",
       "      <td>Ji sir thank you so much 😊</td>\n",
       "      <td>2022-09-08T11:44:19Z</td>\n",
       "      <td>0</td>\n",
       "      <td></td>\n",
       "    </tr>\n",
       "    <tr>\n",
       "      <th>4</th>\n",
       "      <td>Mayank Shukla</td>\n",
       "      <td>Guys the name Data Science and people think th...</td>\n",
       "      <td>2022-09-09T07:34:21Z</td>\n",
       "      <td>0</td>\n",
       "      <td>0</td>\n",
       "    </tr>\n",
       "    <tr>\n",
       "      <th>...</th>\n",
       "      <td>...</td>\n",
       "      <td>...</td>\n",
       "      <td>...</td>\n",
       "      <td>...</td>\n",
       "      <td>...</td>\n",
       "    </tr>\n",
       "    <tr>\n",
       "      <th>8944</th>\n",
       "      <td>Telusko</td>\n",
       "      <td>\"Just a note that SubQuery are now using IPFS ...</td>\n",
       "      <td>2022-06-30T04:51:12Z</td>\n",
       "      <td>0</td>\n",
       "      <td>0</td>\n",
       "    </tr>\n",
       "    <tr>\n",
       "      <th>8945</th>\n",
       "      <td>AKHIL KILLER 500M</td>\n",
       "      <td>Sir please reply to this comment i have this d...</td>\n",
       "      <td>2022-06-23T12:51:34Z</td>\n",
       "      <td>0</td>\n",
       "      <td>0</td>\n",
       "    </tr>\n",
       "    <tr>\n",
       "      <th>8946</th>\n",
       "      <td>avinash software solutions</td>\n",
       "      <td>First view</td>\n",
       "      <td>2022-06-23T12:24:39Z</td>\n",
       "      <td>0</td>\n",
       "      <td>0</td>\n",
       "    </tr>\n",
       "    <tr>\n",
       "      <th>8947</th>\n",
       "      <td>Hack with Programming</td>\n",
       "      <td>first one to comment</td>\n",
       "      <td>2022-06-23T12:24:32Z</td>\n",
       "      <td>0</td>\n",
       "      <td>0</td>\n",
       "    </tr>\n",
       "    <tr>\n",
       "      <th>8948</th>\n",
       "      <td>Abhishek Kumar</td>\n",
       "      <td>First comment!!😃😃\\nGreat fan of your programmi...</td>\n",
       "      <td>2022-06-23T12:24:21Z</td>\n",
       "      <td>0</td>\n",
       "      <td>0</td>\n",
       "    </tr>\n",
       "  </tbody>\n",
       "</table>\n",
       "<p>8949 rows × 5 columns</p>\n",
       "</div>"
      ],
      "text/plain": [
       "                            name  \\\n",
       "0                     Krish Naik   \n",
       "1                      San Malli   \n",
       "2                   Aditya kumar   \n",
       "3                   Aditya kumar   \n",
       "4                  Mayank Shukla   \n",
       "...                          ...   \n",
       "8944                     Telusko   \n",
       "8945           AKHIL KILLER 500M   \n",
       "8946  avinash software solutions   \n",
       "8947       Hack with Programming   \n",
       "8948              Abhishek Kumar   \n",
       "\n",
       "                                                comment          published_at  \\\n",
       "0     Happy Teacher's Day. On the occasion of this a...  2022-09-08T11:22:40Z   \n",
       "1     Hello sir i want to learn ai from your channel...  2022-09-08T13:18:26Z   \n",
       "2               But teachers day to 3 din pahle tha na🤔  2022-09-08T11:44:57Z   \n",
       "3                            Ji sir thank you so much 😊  2022-09-08T11:44:19Z   \n",
       "4     Guys the name Data Science and people think th...  2022-09-09T07:34:21Z   \n",
       "...                                                 ...                   ...   \n",
       "8944  \"Just a note that SubQuery are now using IPFS ...  2022-06-30T04:51:12Z   \n",
       "8945  Sir please reply to this comment i have this d...  2022-06-23T12:51:34Z   \n",
       "8946                                         First view  2022-06-23T12:24:39Z   \n",
       "8947                               first one to comment  2022-06-23T12:24:32Z   \n",
       "8948  First comment!!😃😃\\nGreat fan of your programmi...  2022-06-23T12:24:21Z   \n",
       "\n",
       "      likes replies  \n",
       "0         4       3  \n",
       "1         0          \n",
       "2         0          \n",
       "3         0          \n",
       "4         0       0  \n",
       "...     ...     ...  \n",
       "8944      0       0  \n",
       "8945      0       0  \n",
       "8946      0       0  \n",
       "8947      0       0  \n",
       "8948      0       0  \n",
       "\n",
       "[8949 rows x 5 columns]"
      ]
     },
     "execution_count": 78,
     "metadata": {},
     "output_type": "execute_result"
    }
   ],
   "source": [
    "comments_df"
   ]
  },
  {
   "cell_type": "markdown",
   "metadata": {},
   "source": [
    "## Get thumbnail data"
   ]
  },
  {
   "cell_type": "code",
   "execution_count": 79,
   "metadata": {},
   "outputs": [],
   "source": [
    "def get_video_thumbnails(youtube, video_ids):\n",
    "    all_video_thumbnails = []\n",
    "    \n",
    "    for i in range(0, len(video_ids), 50):\n",
    "        request = youtube.videos().list(\n",
    "                    part='snippet,statistics',\n",
    "                    id=','.join(video_ids))\n",
    "        response = request.execute()\n",
    "        \n",
    "        for video in response['items']:\n",
    "            video_thumbnails = dict(\n",
    "                            thumbnails = video['snippet']['thumbnails']['high']['url']\n",
    "                               )\n",
    "            all_video_thumbnails.append(video_thumbnails)\n",
    "    \n",
    "    return all_video_thumbnails"
   ]
  },
  {
   "cell_type": "code",
   "execution_count": 80,
   "metadata": {},
   "outputs": [],
   "source": [
    "thumbnails = get_video_thumbnails(youtube, video_ids)"
   ]
  },
  {
   "cell_type": "code",
   "execution_count": 81,
   "metadata": {},
   "outputs": [
    {
     "name": "stdout",
     "output_type": "stream",
     "text": [
      "Getting video information from channel: Krish Naik\n"
     ]
    },
    {
     "name": "stderr",
     "output_type": "stream",
     "text": [
      "C:\\Users\\ksdiw\\AppData\\Local\\Temp\\ipykernel_15920\\2392131205.py:17: FutureWarning: The frame.append method is deprecated and will be removed from pandas in a future version. Use pandas.concat instead.\n",
      "  thumbnails_df = thumbnails_df.append(thumbnails)\n"
     ]
    },
    {
     "name": "stdout",
     "output_type": "stream",
     "text": [
      "Getting video information from channel: Hitesh Choudhary\n"
     ]
    },
    {
     "name": "stderr",
     "output_type": "stream",
     "text": [
      "C:\\Users\\ksdiw\\AppData\\Local\\Temp\\ipykernel_15920\\2392131205.py:17: FutureWarning: The frame.append method is deprecated and will be removed from pandas in a future version. Use pandas.concat instead.\n",
      "  thumbnails_df = thumbnails_df.append(thumbnails)\n"
     ]
    },
    {
     "name": "stdout",
     "output_type": "stream",
     "text": [
      "Getting video information from channel: MySirG.com\n"
     ]
    },
    {
     "name": "stderr",
     "output_type": "stream",
     "text": [
      "C:\\Users\\ksdiw\\AppData\\Local\\Temp\\ipykernel_15920\\2392131205.py:17: FutureWarning: The frame.append method is deprecated and will be removed from pandas in a future version. Use pandas.concat instead.\n",
      "  thumbnails_df = thumbnails_df.append(thumbnails)\n"
     ]
    },
    {
     "name": "stdout",
     "output_type": "stream",
     "text": [
      "Getting video information from channel: Telusko\n"
     ]
    },
    {
     "name": "stderr",
     "output_type": "stream",
     "text": [
      "C:\\Users\\ksdiw\\AppData\\Local\\Temp\\ipykernel_15920\\2392131205.py:17: FutureWarning: The frame.append method is deprecated and will be removed from pandas in a future version. Use pandas.concat instead.\n",
      "  thumbnails_df = thumbnails_df.append(thumbnails)\n"
     ]
    }
   ],
   "source": [
    "thumbnails_df = pd.DataFrame()\n",
    "#comments_df = pd.DataFrame()\n",
    "\n",
    "for c in channel_data['channelName'].unique():\n",
    "    \n",
    "    print(\"Getting video information from channel: \" + c)\n",
    "    playlist_id = channel_data.loc[channel_data['channelName']== c, 'playlistId'].iloc[0]\n",
    "    video_ids = get_video_ids(youtube, playlist_id)\n",
    "        \n",
    "    # get video data\n",
    "    thumbnails = get_video_thumbnails(youtube, video_ids)\n",
    "    # get comment data\n",
    "    #comments_data = get_comments_in_videos(youtube, video_ids)\n",
    "\n",
    "    # append video data together and comment data toghether\n",
    "   \n",
    "    thumbnails_df = thumbnails_df.append(thumbnails)\n",
    "    #comments_df = comments_df.append(comments_data, ignore_index=True)"
   ]
  },
  {
   "cell_type": "code",
   "execution_count": 82,
   "metadata": {},
   "outputs": [
    {
     "data": {
      "text/html": [
       "<div>\n",
       "<style scoped>\n",
       "    .dataframe tbody tr th:only-of-type {\n",
       "        vertical-align: middle;\n",
       "    }\n",
       "\n",
       "    .dataframe tbody tr th {\n",
       "        vertical-align: top;\n",
       "    }\n",
       "\n",
       "    .dataframe thead th {\n",
       "        text-align: right;\n",
       "    }\n",
       "</style>\n",
       "<table border=\"1\" class=\"dataframe\">\n",
       "  <thead>\n",
       "    <tr style=\"text-align: right;\">\n",
       "      <th></th>\n",
       "      <th>thumbnails</th>\n",
       "    </tr>\n",
       "  </thead>\n",
       "  <tbody>\n",
       "    <tr>\n",
       "      <th>0</th>\n",
       "      <td>https://i.ytimg.com/vi/pZakG-kIt_o/hqdefault.jpg</td>\n",
       "    </tr>\n",
       "    <tr>\n",
       "      <th>1</th>\n",
       "      <td>https://i.ytimg.com/vi/4VVhwfVf1k8/hqdefault.jpg</td>\n",
       "    </tr>\n",
       "    <tr>\n",
       "      <th>2</th>\n",
       "      <td>https://i.ytimg.com/vi/ngBPXUaScCw/hqdefault.jpg</td>\n",
       "    </tr>\n",
       "    <tr>\n",
       "      <th>3</th>\n",
       "      <td>https://i.ytimg.com/vi/dPARXQO8dkw/hqdefault.jpg</td>\n",
       "    </tr>\n",
       "    <tr>\n",
       "      <th>4</th>\n",
       "      <td>https://i.ytimg.com/vi/tpXu2DnK9HA/hqdefault.jpg</td>\n",
       "    </tr>\n",
       "    <tr>\n",
       "      <th>...</th>\n",
       "      <td>...</td>\n",
       "    </tr>\n",
       "    <tr>\n",
       "      <th>45</th>\n",
       "      <td>https://i.ytimg.com/vi/CHxpplpcIWE/hqdefault.jpg</td>\n",
       "    </tr>\n",
       "    <tr>\n",
       "      <th>46</th>\n",
       "      <td>https://i.ytimg.com/vi/TxKnV7_WnVE/hqdefault.jpg</td>\n",
       "    </tr>\n",
       "    <tr>\n",
       "      <th>47</th>\n",
       "      <td>https://i.ytimg.com/vi/GDdigOQ4qOY/hqdefault.jpg</td>\n",
       "    </tr>\n",
       "    <tr>\n",
       "      <th>48</th>\n",
       "      <td>https://i.ytimg.com/vi/s72FvmjrTw4/hqdefault.jpg</td>\n",
       "    </tr>\n",
       "    <tr>\n",
       "      <th>49</th>\n",
       "      <td>https://i.ytimg.com/vi/yit1hecSfJE/hqdefault.jpg</td>\n",
       "    </tr>\n",
       "  </tbody>\n",
       "</table>\n",
       "<p>200 rows × 1 columns</p>\n",
       "</div>"
      ],
      "text/plain": [
       "                                          thumbnails\n",
       "0   https://i.ytimg.com/vi/pZakG-kIt_o/hqdefault.jpg\n",
       "1   https://i.ytimg.com/vi/4VVhwfVf1k8/hqdefault.jpg\n",
       "2   https://i.ytimg.com/vi/ngBPXUaScCw/hqdefault.jpg\n",
       "3   https://i.ytimg.com/vi/dPARXQO8dkw/hqdefault.jpg\n",
       "4   https://i.ytimg.com/vi/tpXu2DnK9HA/hqdefault.jpg\n",
       "..                                               ...\n",
       "45  https://i.ytimg.com/vi/CHxpplpcIWE/hqdefault.jpg\n",
       "46  https://i.ytimg.com/vi/TxKnV7_WnVE/hqdefault.jpg\n",
       "47  https://i.ytimg.com/vi/GDdigOQ4qOY/hqdefault.jpg\n",
       "48  https://i.ytimg.com/vi/s72FvmjrTw4/hqdefault.jpg\n",
       "49  https://i.ytimg.com/vi/yit1hecSfJE/hqdefault.jpg\n",
       "\n",
       "[200 rows x 1 columns]"
      ]
     },
     "execution_count": 82,
     "metadata": {},
     "output_type": "execute_result"
    }
   ],
   "source": [
    "thumbnails_df"
   ]
  },
  {
   "cell_type": "code",
   "execution_count": 86,
   "metadata": {},
   "outputs": [],
   "source": [
    "urls = thumbnails_df['thumbnails'].to_list()"
   ]
  },
  {
   "cell_type": "code",
   "execution_count": 84,
   "metadata": {},
   "outputs": [
    {
     "name": "stderr",
     "output_type": "stream",
     "text": [
      "d:\\MiniConda3\\lib\\site-packages\\requests\\__init__.py:89: RequestsDependencyWarning: urllib3 (1.26.12) or chardet (3.0.4) doesn't match a supported version!\n",
      "  warnings.warn(\"urllib3 ({}) or chardet ({}) doesn't match a supported \"\n"
     ]
    }
   ],
   "source": [
    "from selenium.webdriver.common.by import By\n",
    "import requests\n",
    "import io\n",
    "from PIL import Image\n",
    "import time"
   ]
  },
  {
   "cell_type": "code",
   "execution_count": 89,
   "metadata": {},
   "outputs": [],
   "source": [
    "def download_images(download_path, url, file_name):\n",
    "    try:\n",
    "        image_content = requests.get(url).content\n",
    "        image_file = io.BytesIO(image_content)\n",
    "        image = Image.open(image_file)\n",
    "        file_path = download_path + file_name\n",
    "\n",
    "        with open(file_path, \"wb\") as f:\n",
    "            image.save(f, \"JPEG\")\n",
    "\n",
    "            #print(\"Success\")\n",
    "    except Exception as e:\n",
    "        print('Failed', e)"
   ]
  },
  {
   "cell_type": "code",
   "execution_count": 90,
   "metadata": {},
   "outputs": [],
   "source": [
    "for i, url in enumerate(urls):\n",
    "\tdownload_images(\"D:/Projects/YouTube_Scrapping/data/imgs/\", url, str(i) + \".jpg\")"
   ]
  },
  {
   "cell_type": "markdown",
   "metadata": {},
   "source": [
    "## Saving Data into CSV file"
   ]
  },
  {
   "cell_type": "markdown",
   "metadata": {},
   "source": [
    "### Channel Details"
   ]
  },
  {
   "cell_type": "code",
   "execution_count": 91,
   "metadata": {},
   "outputs": [],
   "source": [
    "channel_data.to_csv('D:/Projects/YouTube_Scrapping/data/channalStats.csv', index=False, header=True)"
   ]
  },
  {
   "cell_type": "markdown",
   "metadata": {},
   "source": [
    "### Video Details"
   ]
  },
  {
   "cell_type": "code",
   "execution_count": 95,
   "metadata": {},
   "outputs": [],
   "source": [
    "video_df.to_csv('D:/Projects/YouTube_Scrapping/data/videoDetails.csv', index=False, header=True)"
   ]
  },
  {
   "cell_type": "markdown",
   "metadata": {},
   "source": [
    "### All Comments"
   ]
  },
  {
   "cell_type": "code",
   "execution_count": 96,
   "metadata": {},
   "outputs": [],
   "source": [
    "comments_df.to_csv('D:/Projects/YouTube_Scrapping/data/allComments.csv', index=False, header=True)"
   ]
  },
  {
   "cell_type": "markdown",
   "metadata": {},
   "source": [
    "### All Thumbnails"
   ]
  },
  {
   "cell_type": "code",
   "execution_count": 97,
   "metadata": {},
   "outputs": [],
   "source": [
    "thumbnails_df.to_csv('D:/Projects/YouTube_Scrapping/data/allThumbnails.csv', index=False, header=True)"
   ]
  }
 ],
 "metadata": {
  "kernelspec": {
   "display_name": "Python (YouTube_Scrapping)",
   "language": "python",
   "name": "youtube_scrapping"
  },
  "language_info": {
   "codemirror_mode": {
    "name": "ipython",
    "version": 3
   },
   "file_extension": ".py",
   "mimetype": "text/x-python",
   "name": "python",
   "nbconvert_exporter": "python",
   "pygments_lexer": "ipython3",
   "version": "3.9.7"
  },
  "orig_nbformat": 4,
  "vscode": {
   "interpreter": {
    "hash": "4fe31a3b822570cd7bd8b19b78ae8eaa5c665306fa3fc72fa9c3c3cec8b2b1d8"
   }
  }
 },
 "nbformat": 4,
 "nbformat_minor": 2
}
